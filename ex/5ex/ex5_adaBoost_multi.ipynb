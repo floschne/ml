{
 "cells": [
  {
   "cell_type": "code",
   "execution_count": 10,
   "metadata": {
    "pycharm": {
     "is_executing": false
    }
   },
   "outputs": [],
   "source": [
    "import numpy as np\n",
    "import matplotlib.pyplot as plt\n",
    "%matplotlib inline\n",
    "import os\n",
    "import random\n",
    "from concurrent.futures import ThreadPoolExecutor\n",
    "from concurrent.futures import as_completed\n"
   ]
  },
  {
   "cell_type": "code",
   "execution_count": 11,
   "metadata": {
    "pycharm": {
     "is_executing": false
    }
   },
   "outputs": [],
   "source": [
    "def load_data():\n",
    "    data = np.genfromtxt(os.getcwd() + '/dataCircle.csv', delimiter=',')\n",
    "    pos = data[np.where(data[:, 2] == 1)]\n",
    "    neg = data[np.where(data[:, 2] == -1)]\n",
    "    return (pos, neg, data)\n",
    "\n",
    "pos, neg, data = load_data()"
   ]
  },
  {
   "cell_type": "code",
   "execution_count": 12,
   "metadata": {
    "pycharm": {
     "is_executing": false
    }
   },
   "outputs": [
    {
     "data": {
      "image/png": "[encoded data removed]",
      "text/plain": [
       "<Figure size 432x288 with 1 Axes>"
      ]
     },
     "metadata": {},
     "output_type": "display_data"
    }
   ],
   "source": [
    "def plot_data(pos, neg):\n",
    "    fig, ax = plt.subplots(1)\n",
    "    ax.plot(pos[:, 0], pos[:, 1], '.', c='green')\n",
    "    ax.plot(neg[:, 0], neg[:, 1], '.', c='red')\n",
    "    return fig, ax\n",
    "fig, ax = plot_data(pos, neg)"
   ]
  },
  {
   "cell_type": "code",
   "execution_count": 13,
   "metadata": {},
   "outputs": [],
   "source": [
    "class Evaluation:\n",
    "    \n",
    "    def __init__(self, trueLabel = 'p', falseLabel = 'n'):\n",
    "        self.tp = []\n",
    "        self.tn = []\n",
    "        self.fp = []\n",
    "        self.fn = []\n",
    "        self.trueLabel = trueLabel\n",
    "        self.falseLabel = falseLabel\n",
    "        self.total = 0\n",
    "        \n",
    "    def add(self, pred, label):\n",
    "        if pred != self.trueLabel and pred != self.falseLabel or label != self.trueLabel and label != self.falseLabel:\n",
    "            print(\"Error! Prediction and Label have to be either '\"\n",
    "                  + str(self.trueLabel) +\"' or '\"+str(self.falseLabel)+\"' !\")\n",
    "            return\n",
    "        \n",
    "        if pred == label:\n",
    "            if pred == self.trueLabel:\n",
    "                self.tp.append((pred, label))\n",
    "            if pred == self.falseLabel:\n",
    "                self.tn.append((pred, label))\n",
    "        if pred != label:\n",
    "            if pred == self.trueLabel:\n",
    "                self.fp.append((pred, label))\n",
    "            if pred == self.falseLabel:\n",
    "                self.fn.append((pred, label))\n",
    "        self.total += 1\n",
    "        \n",
    "    def acc(self, v = True):\n",
    "        trues = len(self.tp) + len(self.tn)\n",
    "        acc = trues / self.total\n",
    "        if v:\n",
    "            print(\"Accuracy: %i / %i -> %f\" % (trues, self.total, acc))\n",
    "        return acc\n",
    "    \n",
    "    def prec(self, v = True):\n",
    "        pred_pos = (len(self.tp) + len(self.fp))\n",
    "        prec = len(self.tp) / pred_pos\n",
    "        if v:\n",
    "            print(\"Precision: %i / %i -> %f\" % (len(self.tp), pred_pos, prec))\n",
    "        return prec\n",
    "    \n",
    "    def rec(self, v = True):\n",
    "        cond_pos = (len(self.tp) + len(self.fn))\n",
    "        rec = len(self.tp) / cond_pos\n",
    "        if v:\n",
    "            print(\"Recall: %i / %i -> %f\" % (len(self.tp), cond_pos, rec))\n",
    "        return rec\n",
    "    \n",
    "    def f1(self, v = True):\n",
    "        rec = self.rec(False)\n",
    "        prec = self.prec(False)\n",
    "        f1 = 2 * prec * rec / (prec + rec)\n",
    "        if v:\n",
    "            print(\"F1: %f\" % (f1))\n",
    "        return f1\n",
    "    \n",
    "    def print_summary(self):\n",
    "        self.acc(True)\n",
    "        self.prec(True)\n",
    "        self.rec(True)\n",
    "        self.f1(True)\n",
    "        "
   ]
  },
  {
   "cell_type": "code",
   "execution_count": 14,
   "metadata": {
    "pycharm": {
     "is_executing": false
    }
   },
   "outputs": [],
   "source": [
    "def init_distribution(data):\n",
    "    d1 = np.ones(data.shape[0], dtype=np.float128)\n",
    "    d1 /= len(data)\n",
    "    \n",
    "    assert np.isclose(np.sum(d1), 1.0)\n",
    "    return d1\n",
    "\n",
    "d1 = init_distribution(data)"
   ]
  },
  {
   "cell_type": "code",
   "execution_count": 15,
   "metadata": {
    "pycharm": {
     "is_executing": false
    }
   },
   "outputs": [],
   "source": [
    "class weak_classifier:\n",
    "    def __init__(self, minn=-10., maxx=-10., axis='x', prec=0.1):\n",
    "        self.minn = minn\n",
    "        self.maxx = maxx\n",
    "        f = 1 / prec\n",
    "        self.theta = random.randrange(-10 *f , 10*f, 0.1*f)/f\n",
    "        self.axis = axis\n",
    "        \n",
    "    def __str__(self):\n",
    "        return \"{%s %.2f}\" % (self.axis, self.theta)\n",
    "    \n",
    "    def __repr__(self):\n",
    "        return \"{%s %.2f}\" % (self.axis, self.theta)\n",
    "    \n",
    "    def pred(self, x, y):\n",
    "        if self.axis =='x1':\n",
    "            return 1 if x > self.theta else -1\n",
    "        elif self.axis =='x2':\n",
    "            return 1 if x < self.theta else -1\n",
    "        elif self.axis =='y1':\n",
    "            return 1 if y > self.theta else -1\n",
    "        elif self.axis =='y2':\n",
    "            return 1 if y < self.theta else -1\n",
    "        \n",
    "    def kronecker(self, x, y, label):\n",
    "        return 1 if self.pred(x, y) != label else 0\n",
    "    \n",
    "    def plot(self, ax = None, a=1.):\n",
    "        plt.xlim(self.minn, self.maxx)\n",
    "        plt.ylim(self.minn, self.maxx)\n",
    "        fig = None\n",
    "        if ax == None:\n",
    "            fig, ax = plt.subplots(1)\n",
    "        if 'x' in self.axis:\n",
    "            ax.axhline(self.theta, linewidth=5 * a, alpha=a)\n",
    "        else:\n",
    "            ax.axvline(self.theta, linewidth=5 * a, alpha=a)\n",
    "            \n",
    "class strong_classifier:\n",
    "    def __init__(self, ats, hts):\n",
    "        assert len(ats) == len(hts)\n",
    "        self.ats = ats\n",
    "        self.hts = hts        \n",
    "        \n",
    "    def pred(self, x, y):\n",
    "        F = 0\n",
    "        for at, ht in zip(ats, hts):\n",
    "            F += at * ht.pred(x, y)\n",
    "        return np.sign(F)\n",
    "        \n",
    "        \n",
    "    def plot_all(self, ax = None):\n",
    "        fig = None\n",
    "        if ax == None:\n",
    "            fig, ax = plt.subplots(1)\n",
    "        for at, ht in zip(ats, hts):\n",
    "            ht.plot(ax, at)\n",
    "            \n",
    "    def __len__(self):\n",
    "        return len(ats)"
   ]
  },
  {
   "cell_type": "markdown",
   "metadata": {},
   "source": [
    "        if i % 4 == 0:\n",
    "            hts.append(weak_classifier(minn, maxx, 'x1')) # parallel to x axis\n",
    "        elif i % 4 == 1:\n",
    "            hts.append(weak_classifier(minn, maxx, 'x2')) # parallel to x axis\n",
    "        elif i % 4 == 2:\n",
    "            hts.append(weak_classifier(minn, maxx, 'y1')) # parallel to x axis\n",
    "        elif i % 4 == 3:\n",
    "            hts.append(weak_classifier(minn, maxx, 'y2')) # parallel to y axis"
   ]
  },
  {
   "cell_type": "code",
   "execution_count": 16,
   "metadata": {
    "pycharm": {
     "is_executing": false
    },
    "scrolled": false
   },
   "outputs": [],
   "source": [
    "def generate_weak_classifiers(minn=-10, maxx=10., n=20):\n",
    "    # generate lines parallel to the x or y axis as weak classifiers\n",
    "    hts = []\n",
    "    for i in range(n // 4):\n",
    "        hts.append(weak_classifier(minn, maxx, 'x1')) # parallel to x axis\n",
    "    \n",
    "    for i in range(n // 4):\n",
    "        hts.append(weak_classifier(minn, maxx, 'x2')) # parallel to x axis\n",
    "    \n",
    "    for i in range(n // 4):\n",
    "        hts.append(weak_classifier(minn, maxx, 'y1')) # parallel to x axis\n",
    "    \n",
    "    for i in range(n // 4):\n",
    "        hts.append(weak_classifier(minn, maxx, 'y2')) # parallel to x axis\n",
    "    \n",
    "    \n",
    "    return hts"
   ]
  },
  {
   "cell_type": "code",
   "execution_count": 17,
   "metadata": {
    "pycharm": {
     "is_executing": false
    }
   },
   "outputs": [],
   "source": [
    "def compute_weighted_error(data, h, distr):\n",
    "    e = 0\n",
    "    for i, p in enumerate(data):\n",
    "        x, y, label = p[0], p[1], p[2]\n",
    "        e += distr[i] * h.kronecker(x, y, label)\n",
    "    assert e >= 0 and e <= 1.0\n",
    "    return e\n",
    "\n",
    "def compute_weighted_errors(hts, distr, data):\n",
    "    # compute weighted errors for all weak classifiers\n",
    "    ets = []\n",
    "    with ThreadPoolExecutor(max_workers=16) as executor:\n",
    "        futures = [executor.submit(compute_weighted_error, data, h, distr) for h in hts]\n",
    "        for future in as_completed(futures):\n",
    "            ets.append(future.result())    \n",
    "    return ets\n",
    "\n",
    "def select_weak_classifier(hts, errors_t):\n",
    "    # select weak classifier with minimum error\n",
    "    return hts[np.argmin(errors_t)], np.min(errors_t)\n",
    "\n",
    "def compute_alpha_t(error_t):\n",
    "    return 0.5 * np.log((1-error_t)/(error_t))\n",
    "\n",
    "def compute_zt(distr_t, alpha_t, ht, data):\n",
    "    zt = 0\n",
    "    for i, d in enumerate(data):\n",
    "        zt += distr_t[i] * np.exp(-alpha_t * d[2] * ht.pred(d[0], d[1]))\n",
    "    return zt\n",
    "\n",
    "def update_distribution(distr_t, alpha_t, zt, ht, data):\n",
    "    assert np.isclose(np.sum(distr_t), 1.0)\n",
    "    distr_t1 = np.zeros_like(distr_t)\n",
    "    zt = 0\n",
    "    for i, d in enumerate(data):\n",
    "        x = distr_t[i] * np.exp(-alpha_t * d[2] * ht.pred(d[0], d[1]))\n",
    "        zt += x\n",
    "        distr_t1[i] = x\n",
    "    distr_t1 /= zt\n",
    "        \n",
    "    assert np.isclose(np.sum(distr_t1), 1.0)\n",
    "    return distr_t1"
   ]
  },
  {
   "cell_type": "code",
   "execution_count": 20,
   "metadata": {
    "pycharm": {
     "is_executing": false
    },
    "scrolled": false
   },
   "outputs": [
    {
     "name": "stdout",
     "output_type": "stream",
     "text": [
      "(-3, -5)\t-> Label: 1 Prediction: -1 \n",
      "\n",
      "(-1, -5)\t-> Label: 1 Prediction: -1 \n",
      "\n",
      "(2, -5)\t-> Label: 1 Prediction: -1 \n",
      "\n",
      "(0, 6)\t-> Label: 1 Prediction: -1 \n",
      "\n",
      "(6, 6)\t-> Label: -1 Prediction: 1 \n",
      "\n",
      "(-6, -5)\t-> Label: -1 Prediction: 1 \n",
      "\n",
      "(7, -4)\t-> Label: -1 Prediction: 1 \n",
      "\n",
      "(8, 0)\t-> Label: -1 Prediction: 1 \n",
      "\n",
      "(8, 3)\t-> Label: -1 Prediction: 1 \n",
      "\n",
      "(9, 3)\t-> Label: -1 Prediction: 1 \n",
      "\n",
      "(9, -1)\t-> Label: -1 Prediction: 1 \n",
      "\n",
      "(8, 5)\t-> Label: -1 Prediction: 1 \n",
      "\n",
      "(8, 3)\t-> Label: -1 Prediction: 1 \n",
      "\n",
      "(-7, 6)\t-> Label: -1 Prediction: 1 \n",
      "\n",
      "(5, -4)\t-> Label: -1 Prediction: 1 \n",
      "\n",
      "(7, 4)\t-> Label: -1 Prediction: 1 \n",
      "\n",
      "(9, 0)\t-> Label: -1 Prediction: 1 \n",
      "\n",
      "(-3, -8)\t-> Label: -1 Prediction: 1 \n",
      "\n",
      "(9, 3)\t-> Label: -1 Prediction: 1 \n",
      "\n",
      "(-8, 2)\t-> Label: -1 Prediction: 1 \n",
      "\n",
      "(8, -2)\t-> Label: -1 Prediction: 1 \n",
      "\n",
      "(-9, 0)\t-> Label: -1 Prediction: 1 \n",
      "\n",
      "(8, -1)\t-> Label: -1 Prediction: 1 \n",
      "\n",
      "(5, -5)\t-> Label: -1 Prediction: 1 \n",
      "\n",
      "(-6, -2)\t-> Label: -1 Prediction: 1 \n",
      "\n",
      "(1, -9)\t-> Label: -1 Prediction: 1 \n",
      "\n",
      "(7, 1)\t-> Label: -1 Prediction: 1 \n",
      "\n",
      "(-7, -1)\t-> Label: -1 Prediction: 1 \n",
      "\n",
      "(8, 4)\t-> Label: -1 Prediction: 1 \n",
      "\n",
      "(0, 9)\t-> Label: -1 Prediction: 1 \n",
      "\n",
      "(-1, -9)\t-> Label: -1 Prediction: 1 \n",
      "\n",
      "(7, -3)\t-> Label: -1 Prediction: 1 \n",
      "\n",
      "Accuracy: 70 / 102 -> 0.686275\n",
      "Precision: 36 / 64 -> 0.562500\n",
      "Recall: 36 / 40 -> 0.900000\n",
      "F1: 0.692308\n"
     ]
    },
    {
     "data": {
      "image/png": "[encoded data removed]",
      "text/plain": [
       "<Figure size 432x288 with 1 Axes>"
      ]
     },
     "metadata": {},
     "output_type": "display_data"
    },
    {
     "data": {
      "image/png": "[encoded data removed]",
      "text/plain": [
       "<Figure size 432x288 with 1 Axes>"
      ]
     },
     "metadata": {},
     "output_type": "display_data"
    },
    {
     "data": {
      "image/png": "[encoded data removed]",
      "text/plain": [
       "<Figure size 432x288 with 1 Axes>"
      ]
     },
     "metadata": {},
     "output_type": "display_data"
    },
    {
     "data": {
      "image/png": "[encoded data removed]",
      "text/plain": [
       "<Figure size 432x288 with 1 Axes>"
      ]
     },
     "metadata": {},
     "output_type": "display_data"
    }
   ],
   "source": [
    "# load the data\n",
    "pos, neg, data = load_data()\n",
    "\n",
    "# initialize the distribution for the first timestep \n",
    "distr = init_distribution(data)\n",
    "\n",
    "# generate N weak classifiers\n",
    "N = 250\n",
    "#random.seed(42)\n",
    "h = generate_weak_classifiers(n=N)\n",
    "\n",
    "# train adaboos for T timesteps\n",
    "T = 100\n",
    "ats = []\n",
    "ets = []\n",
    "hts = []\n",
    "distrs = []\n",
    "distrs.append(distr)\n",
    "for t in range(T):\n",
    "    # 1. Learn weak classifier ht using distribution Dt\n",
    "    errors_t = compute_weighted_errors(h, distr, data)\n",
    "    # for e in errors_t:\n",
    "    #    print(e)\n",
    "    ht, et = select_weak_classifier(h, errors_t)\n",
    "    # print(et)\n",
    "    # print(ht)\n",
    "    # 2. Set weight αt based on the error\n",
    "    at = compute_alpha_t(et)\n",
    "    # 3. Update the distribution based on the performance so far\n",
    "    zt = compute_zt(distr, at, ht, data)\n",
    "    distr = update_distribution(distr, at, zt, ht, data)\n",
    "    # collect results\n",
    "    distrs.append(distr)\n",
    "    ats.append(at)\n",
    "    hts.append(ht)\n",
    "    ets.append(et)\n",
    "    \n",
    "fig, ax = plt.subplots(1)\n",
    "ax.plot(np.arange(T), np.array(ets))\n",
    "\n",
    "fig, ax = plt.subplots(1)\n",
    "ax.bar(np.arange(len(data)), distrs[0], linewidth=.25)\n",
    "\n",
    "fig, ax = plt.subplots(1)\n",
    "ax.bar(np.arange(len(data)), distrs[-1], linewidth=.25)\n",
    "\n",
    "\n",
    "H = strong_classifier(ats, hts)\n",
    "fig, ax = plot_data(pos, neg)\n",
    "H.plot_all(ax)\n",
    "\n",
    "\n",
    "evaluation = Evaluation(1, -1)\n",
    "for d in data:\n",
    "    pred = H.pred(d[0], d[1])\n",
    "    evaluation.add(pred, d[2])\n",
    "    if pred != d[2]:\n",
    "        print(\"(%i, %i)\\t-> Label: %i Prediction: %i \\n\" % (d[0], d[1], d[2], pred))\n",
    "        ax.plot(d[0], d[1], 'o', c='black', linewidth=4)\n",
    "\n",
    "evaluation.print_summary()"
   ]
  },
  {
   "cell_type": "code",
   "execution_count": null,
   "metadata": {
    "pycharm": {
     "is_executing": false
    }
   },
   "outputs": [],
   "source": []
  }
 ],
 "metadata": {
  "kernelspec": {
   "display_name": "Python 3",
   "language": "python",
   "name": "python3"
  },
  "language_info": {
   "codemirror_mode": {
    "name": "ipython",
    "version": 3
   },
   "file_extension": ".py",
   "mimetype": "text/x-python",
   "name": "python",
   "nbconvert_exporter": "python",
   "pygments_lexer": "ipython3",
   "version": "3.6.5"
  },
  "pycharm": {
   "stem_cell": {
    "cell_type": "raw",
    "metadata": {
     "collapsed": false
    },
    "source": []
   }
  }
 },
 "nbformat": 4,
 "nbformat_minor": 2
}
