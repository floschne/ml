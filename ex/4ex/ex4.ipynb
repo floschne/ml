{
 "cells": [
  {
   "cell_type": "code",
   "execution_count": 1,
   "metadata": {},
   "outputs": [],
   "source": [
    "import numpy as np\n",
    "import os\n",
    "import imageio as io\n",
    "from matplotlib import pyplot as plt\n",
    "%matplotlib inline\n",
    "from libsvm.svmutil import *"
   ]
  },
  {
   "cell_type": "code",
   "execution_count": 2,
   "metadata": {},
   "outputs": [],
   "source": [
    "class Image:\n",
    "    def __init__(self, data, label):\n",
    "        self.data = data\n",
    "        self.label = -1 if label == 'n' else 1\n",
    "    \n",
    "    def get_grayscale(self):\n",
    "        return np.dot(self.data[...,:3], [0.299, 0.587, 0.144])\n",
    "    \n",
    "    def get_num_purple(self):\n",
    "        r = self.data[:,:,0].ravel()\n",
    "        g = self.data[:,:,1].ravel()\n",
    "        b = self.data[:,:,2].ravel()\n",
    "        \n",
    "        p = (138, 45, 135)\n",
    "        t_r = 40 / 2\n",
    "        t_g = 60 / 2\n",
    "        t_b = 4 / 2\n",
    "        \n",
    "        purple = []\n",
    "        for r_, g_, b_ in zip(r, g, b):\n",
    "            if((r_ > p[0] - t_r and r_ < p[0] + t_r) and\n",
    "               (g_ > p[1] - t_g and g_ < p[1] + t_g) and\n",
    "               (b_ > p[2] - t_b and b_ < p[2] + t_b)):\n",
    "                purple += (r_, g_, b_)\n",
    "               \n",
    "        return len(purple)\n",
    "        \n",
    "        \n",
    "                                \n",
    "    def get_features(self):\n",
    "        # mean\n",
    "        mean_f = np.mean(self.data)\n",
    "        # max\n",
    "        max_f = np.max(self.data)\n",
    "        # min\n",
    "        min_f = np.min(self.data)\n",
    "        \n",
    "        \n",
    "        # mean of r + + g + b + gray channel\n",
    "        mean_r_f = np.mean(self.data[:,:,0])\n",
    "        mean_g_f = np.mean(self.data[:,:,1])\n",
    "        mean_b_f = np.mean(self.data[:,:,2])\n",
    "\n",
    "        # num purple\n",
    "        num_p_f = self.get_num_purple()\n",
    "\n",
    "        features = [mean_f, max_f, min_f, mean_r_f, mean_b_f, num_p_f]\n",
    "            \n",
    "        return np.array(features)\n",
    "        \n",
    "    def show(self):\n",
    "        plt.figure()\n",
    "        plt.set(title='Label: %s' % (self.label))\n",
    "        plt.imshow(self.data)"
   ]
  },
  {
   "cell_type": "code",
   "execution_count": 3,
   "metadata": {},
   "outputs": [],
   "source": [
    "def load_images(path):\n",
    "    imgs = []\n",
    "    for img in os.listdir(path):\n",
    "        if (img.endswith(\".png\")):\n",
    "            imgs.append(Image(io.imread(path + img), img[0]))\n",
    "            \n",
    "    return imgs\n",
    "\n",
    "def read_images():\n",
    "    neg_path = os.getcwd() + \"/negatives/\"\n",
    "    pos_path = os.getcwd() + \"/positives/\"\n",
    "    neg_imgs = np.array(load_images(neg_path))\n",
    "    pos_imgs = np.array(load_images(pos_path))\n",
    "    \n",
    "    print(\"positives: \" + str(pos_imgs.shape))\n",
    "    print(\"negatives: \" + str(neg_imgs.shape))\n",
    "    \n",
    "    return pos_imgs, neg_imgs"
   ]
  },
  {
   "cell_type": "code",
   "execution_count": 4,
   "metadata": {},
   "outputs": [],
   "source": [
    "def split_train_test(pos_imgs, neg_imgs):\n",
    "\n",
    "    # all set\n",
    "    all_set = np.concatenate((pos_imgs, neg_imgs))\n",
    "    np.random.shuffle(all_set)\n",
    "\n",
    "    # 80% -> 24 training vectors\n",
    "    train_set = np.concatenate((pos_imgs[:24], neg_imgs[:24]))\n",
    "    # 20% -> 6 test vectors\n",
    "    test_set = np.concatenate((pos_imgs[24:], neg_imgs[24:]))\n",
    "    \n",
    "    np.random.shuffle(train_set)\n",
    "    np.random.shuffle(test_set)\n",
    "    \n",
    "    return train_set, test_set, all_set"
   ]
  },
  {
   "cell_type": "code",
   "execution_count": 5,
   "metadata": {},
   "outputs": [],
   "source": [
    "def prepare_data(imgs):\n",
    "    y = np.array([i.label for i in imgs])\n",
    "    x = np.array([i.get_features() for i in imgs])\n",
    "    \n",
    "    return x, y\n",
    "\n",
    "def create_dataset(sample_imgs, path='./chagas.dat'):\n",
    "    x, y = prepare_data(sample_imgs)\n",
    "\n",
    "    line = \"\"\n",
    "    with open(path, 'w') as f:\n",
    "        for x_i, y_i in zip(x, y):\n",
    "            line += str(y_i) + ' ' # label\n",
    "            for j, x_ij in enumerate(x_i): \n",
    "                line += str(j+1) + ':' + str(x_ij) + ' ' # feature vec\n",
    "            line += '\\n'\n",
    "        f.write(line)    "
   ]
  },
  {
   "cell_type": "code",
   "execution_count": 6,
   "metadata": {},
   "outputs": [
    {
     "name": "stdout",
     "output_type": "stream",
     "text": [
      "positives: (30,)\n",
      "negatives: (30,)\n",
      "all_set: (60,)\n",
      "train_set: (48,)\n",
      "test_set: (12,)\n"
     ]
    }
   ],
   "source": [
    "# get images\n",
    "pos_imgs, neg_imgs = read_images()\n",
    "\n",
    "# split into train and test\n",
    "train_set, test_set, full_set = split_train_test(pos_imgs, neg_imgs)\n",
    "print(\"all_set: \" + str(full_set.shape))\n",
    "print(\"train_set: \" + str(train_set.shape))\n",
    "print(\"test_set: \" + str(test_set.shape))"
   ]
  },
  {
   "cell_type": "code",
   "execution_count": 7,
   "metadata": {},
   "outputs": [
    {
     "ename": "NameError",
     "evalue": "name 'all_set' is not defined",
     "output_type": "error",
     "traceback": [
      "\u001b[0;31m---------------------------------------------------------------------------\u001b[0m",
      "\u001b[0;31mNameError\u001b[0m                                 Traceback (most recent call last)",
      "\u001b[0;32m<ipython-input-7-e6ec8988cfbd>\u001b[0m in \u001b[0;36m<module>\u001b[0;34m\u001b[0m\n\u001b[1;32m      1\u001b[0m \u001b[0;31m# create the datasets in libsvm format\u001b[0m\u001b[0;34m\u001b[0m\u001b[0;34m\u001b[0m\u001b[0;34m\u001b[0m\u001b[0m\n\u001b[0;32m----> 2\u001b[0;31m \u001b[0mcreate_dataset\u001b[0m\u001b[0;34m(\u001b[0m\u001b[0mall_set\u001b[0m\u001b[0;34m,\u001b[0m \u001b[0;34m'./dataset/chagas_all.svmdat'\u001b[0m\u001b[0;34m)\u001b[0m\u001b[0;34m\u001b[0m\u001b[0;34m\u001b[0m\u001b[0m\n\u001b[0m\u001b[1;32m      3\u001b[0m \u001b[0mcreate_dataset\u001b[0m\u001b[0;34m(\u001b[0m\u001b[0mtrain_set\u001b[0m\u001b[0;34m,\u001b[0m \u001b[0;34m'./dataset/chagas_train.svmdat'\u001b[0m\u001b[0;34m)\u001b[0m\u001b[0;34m\u001b[0m\u001b[0;34m\u001b[0m\u001b[0m\n\u001b[1;32m      4\u001b[0m \u001b[0mcreate_dataset\u001b[0m\u001b[0;34m(\u001b[0m\u001b[0mtest_set\u001b[0m\u001b[0;34m,\u001b[0m \u001b[0;34m'./dataset/chagas_test.svmdat'\u001b[0m\u001b[0;34m)\u001b[0m\u001b[0;34m\u001b[0m\u001b[0;34m\u001b[0m\u001b[0m\n",
      "\u001b[0;31mNameError\u001b[0m: name 'all_set' is not defined"
     ]
    }
   ],
   "source": [
    "# create the datasets in libsvm format\n",
    "create_dataset(all_set, './dataset/chagas_all.svmdat')\n",
    "create_dataset(train_set, './dataset/chagas_train.svmdat')\n",
    "create_dataset(test_set, './dataset/chagas_test.svmdat')"
   ]
  },
  {
   "cell_type": "code",
   "execution_count": null,
   "metadata": {},
   "outputs": [],
   "source": [
    "prob  = svm_problem(y_train, x_train)\n",
    "\n",
    "m = svm_train(prob, '-t 1 -c 0.125 -g 0.5')\n",
    "\n",
    "p_label, p_acc, p_val = svm_predict(y_test, x_test, m)\n",
    "ACC, MSE, SCC = evaluations(y_test, p_label)\n",
    "print(ACC)\n",
    "print(MSE)\n",
    "print(SCC)"
   ]
  },
  {
   "cell_type": "markdown",
   "metadata": {},
   "source": [
    "##### The following parameters were found by"
   ]
  },
  {
   "cell_type": "code",
   "execution_count": null,
   "metadata": {},
   "outputs": [],
   "source": []
  }
 ],
 "metadata": {
  "kernelspec": {
   "display_name": "Python 3",
   "language": "python",
   "name": "python3"
  },
  "language_info": {
   "codemirror_mode": {
    "name": "ipython",
    "version": 3
   },
   "file_extension": ".py",
   "mimetype": "text/x-python",
   "name": "python",
   "nbconvert_exporter": "python",
   "pygments_lexer": "ipython3",
   "version": "3.6.9"
  }
 },
 "nbformat": 4,
 "nbformat_minor": 2
}
