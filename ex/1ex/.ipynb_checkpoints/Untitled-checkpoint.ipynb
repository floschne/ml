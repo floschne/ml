{
 "cells": [
  {
   "cell_type": "code",
   "execution_count": null,
   "metadata": {},
   "outputs": [],
   "source": []
  },
  {
   "cell_type": "code",
   "execution_count": 380,
   "metadata": {},
   "outputs": [],
   "source": [
    "import numpy as np\n",
    "from matplotlib import pyplot as plt\n",
    "%matplotlib inline "
   ]
  },
  {
   "cell_type": "code",
   "execution_count": 10,
   "metadata": {},
   "outputs": [
    {
     "data": {
      "text/plain": [
       "array([ 0.15447375,  0.07888709,  0.25039399,  0.03125724,  0.0461845 ,\n",
       "       -0.17003839,  0.05814144,  0.02113576, -0.00997805, -0.01612077,\n",
       "        0.02312821, -0.17688794, -0.17779698, -0.16776405, -0.27292696,\n",
       "        0.1477719 ,  0.21265837, -0.24527063, -0.11972163,  0.22451951,\n",
       "       -0.21104598,  0.26908167,  0.04098743, -0.04357287,  0.07511981,\n",
       "       -0.12107133, -0.04922868, -0.12281427, -0.13332742, -0.01698802,\n",
       "        0.10036951,  0.13359488, -0.02622776,  0.02239791, -0.03756779,\n",
       "        0.03033856,  0.06491172, -0.0504519 , -0.12642571, -0.20075993,\n",
       "        0.22000166, -0.02147955, -0.04128151, -0.08170151,  0.17053366,\n",
       "        0.08312634, -0.10988992, -0.01963426,  0.04777149,  0.03728071,\n",
       "       -0.15457641, -0.26453704, -0.25606775, -0.11702201,  0.17187326,\n",
       "       -0.26360258, -0.04005502,  0.0004977 , -0.0573959 ,  0.06262253,\n",
       "        0.28001733, -0.21422949, -0.13843228, -0.2292399 ,  0.08955485,\n",
       "        0.14546756,  0.16658008,  0.12046537, -0.21291571, -0.21360483,\n",
       "        0.29005302, -0.23083803,  0.09641119, -0.28990309,  0.1968569 ,\n",
       "        0.24894909, -0.2361684 , -0.23182505, -0.077475  , -0.29496765,\n",
       "       -0.29092948,  0.24198169,  0.29400523,  0.19547511,  0.09417453,\n",
       "        0.28639346,  0.06344328, -0.14787234, -0.20490658, -0.16196271,\n",
       "       -0.07338837, -0.26799829, -0.28797781,  0.06292654,  0.1177807 ,\n",
       "        0.03798879, -0.13848621, -0.03353101, -0.07695861, -0.19542619])"
      ]
     },
     "execution_count": 10,
     "metadata": {},
     "output_type": "execute_result"
    }
   ],
   "source": [
    "np.random.uniform(-.3, .3, 100)"
   ]
  },
  {
   "cell_type": "code",
   "execution_count": 330,
   "metadata": {},
   "outputs": [],
   "source": [
    "def generate_random_data(n=1000):\n",
    "    epsilon = np.random.uniform(-.3, .3, n)\n",
    "    x = np.random.uniform(0.0, 1.0, n)\n",
    "    y = np.sin(2*np.pi*x) + epsilon\n",
    "    return (x, y)"
   ]
  },
  {
   "cell_type": "code",
   "execution_count": 414,
   "metadata": {},
   "outputs": [
    {
     "data": {
      "image/png": "[encoded data removed]",
      "text/plain": [
       "<Figure size 432x288 with 1 Axes>"
      ]
     },
     "metadata": {
      "needs_background": "light"
     },
     "output_type": "display_data"
    }
   ],
   "source": [
    "x, y = generate_random_data(50)\n",
    "plt.scatter(x, y, marker='.',linewidths=1)\n",
    "plt.show()"
   ]
  },
  {
   "cell_type": "code",
   "execution_count": 329,
   "metadata": {},
   "outputs": [
    {
     "data": {
      "text/plain": [
       "(1000,)"
      ]
     },
     "execution_count": 329,
     "metadata": {},
     "output_type": "execute_result"
    }
   ],
   "source": [
    "x.shape"
   ]
  },
  {
   "cell_type": "code",
   "execution_count": 415,
   "metadata": {},
   "outputs": [],
   "source": [
    "def init_theta(n_dim=2):\n",
    "    return np.random.uniform(-.5, .5, n_dim)"
   ]
  },
  {
   "cell_type": "code",
   "execution_count": 416,
   "metadata": {},
   "outputs": [],
   "source": [
    "def hypothesis(x, theta):\n",
    "    x_ = None\n",
    "    for m in range(len(theta)):\n",
    "        if m == 0:\n",
    "            x_ = x ** m\n",
    "        else:    \n",
    "            x_ = np.column_stack((x_, x ** m))\n",
    "    return np.dot(x_, theta)"
   ]
  },
  {
   "cell_type": "code",
   "execution_count": 431,
   "metadata": {},
   "outputs": [
    {
     "data": {
      "text/plain": [
       "<matplotlib.collections.PathCollection at 0x7fca225e8240>"
      ]
     },
     "execution_count": 431,
     "metadata": {},
     "output_type": "execute_result"
    },
    {
     "data": {
      "image/png": "[encoded data removed]",
      "text/plain": [
       "<Figure size 432x288 with 1 Axes>"
      ]
     },
     "metadata": {
      "needs_background": "light"
     },
     "output_type": "display_data"
    }
   ],
   "source": [
    "theta = init_theta(5)\n",
    "y_hat = hypothesis(x, theta)\n",
    "plt.scatter(x, y_hat, marker='.', linewidths=1)"
   ]
  },
  {
   "cell_type": "code",
   "execution_count": 432,
   "metadata": {},
   "outputs": [],
   "source": [
    "def cost(x, y, theta):\n",
    "    return .5 * np.dot((hypothesis(x, theta) - y).T, (hypothesis(x, theta) - y))"
   ]
  },
  {
   "cell_type": "code",
   "execution_count": 433,
   "metadata": {},
   "outputs": [
    {
     "data": {
      "text/plain": [
       "20.231062029094314"
      ]
     },
     "execution_count": 433,
     "metadata": {},
     "output_type": "execute_result"
    }
   ],
   "source": [
    "cost(x, y, theta)"
   ]
  },
  {
   "cell_type": "code",
   "execution_count": 434,
   "metadata": {},
   "outputs": [],
   "source": [
    "def nabla_theta_cost(x, y, theta):\n",
    "    return np.dot(np.dot(x.T, x), theta) - np.dot(x.T, y)"
   ]
  },
  {
   "cell_type": "code",
   "execution_count": 435,
   "metadata": {},
   "outputs": [
    {
     "data": {
      "text/plain": [
       "array([0.29441555, 0.4279278 , 0.09340895, 0.37683629, 0.7441339 ,\n",
       "       0.1292943 , 0.40180198, 0.2928153 , 0.19206621, 0.16340874,\n",
       "       0.12858417, 0.53561764, 0.11414873, 0.89405831, 0.73209388,\n",
       "       0.24531466, 0.95095237, 0.20777198, 0.89465138, 0.60145163,\n",
       "       0.64165064, 0.01041661, 0.09196445, 0.7065898 , 0.26387392,\n",
       "       0.43691297, 0.8158784 , 0.11816349, 0.1817125 , 0.51481142,\n",
       "       0.60521558, 0.62649128, 0.64071824, 0.06736989, 0.82471874,\n",
       "       0.59293992, 0.30047041, 0.74726837, 0.30613859, 0.24370684,\n",
       "       0.79183418, 0.54890218, 0.50550772, 0.97443052, 0.56969899,\n",
       "       0.25757142, 0.85003224, 0.34679854, 0.1778038 , 0.53639992])"
      ]
     },
     "execution_count": 435,
     "metadata": {},
     "output_type": "execute_result"
    }
   ],
   "source": [
    "x"
   ]
  },
  {
   "cell_type": "code",
   "execution_count": 436,
   "metadata": {},
   "outputs": [
    {
     "data": {
      "text/plain": [
       "array([ 1.44178231,  8.78564474,  4.60588616, 11.84260432,  2.43578906])"
      ]
     },
     "execution_count": 436,
     "metadata": {},
     "output_type": "execute_result"
    }
   ],
   "source": [
    "nabla_theta_cost(x, y, theta)"
   ]
  },
  {
   "cell_type": "code",
   "execution_count": null,
   "metadata": {},
   "outputs": [],
   "source": []
  },
  {
   "cell_type": "code",
   "execution_count": 446,
   "metadata": {},
   "outputs": [
    {
     "data": {
      "text/plain": [
       "[<matplotlib.lines.Line2D at 0x7fca222ef358>]"
      ]
     },
     "execution_count": 446,
     "metadata": {},
     "output_type": "execute_result"
    },
    {
     "data": {
      "image/png": "[encoded data removed]",
      "text/plain": [
       "<Figure size 432x288 with 1 Axes>"
      ]
     },
     "metadata": {
      "needs_background": "light"
     },
     "output_type": "display_data"
    }
   ],
   "source": [
    "theta = init_theta(4)\n",
    "error = []\n",
    "n_iter = 500\n",
    "learning_rate = 0.001\n",
    "for i in range(0, n_iter):\n",
    "    ntc = nabla_theta_cost(x, y, theta)\n",
    "    c = cost(x, y, theta)\n",
    "    theta -= learning_rate * ntc\n",
    "    error.append(c)\n",
    "\n",
    "x_ = list(range(n_iter))\n",
    "\n",
    "plt.plot(x_, error)"
   ]
  },
  {
   "cell_type": "code",
   "execution_count": null,
   "metadata": {},
   "outputs": [],
   "source": []
  },
  {
   "cell_type": "code",
   "execution_count": null,
   "metadata": {},
   "outputs": [],
   "source": []
  }
 ],
 "metadata": {
  "kernelspec": {
   "display_name": "Python 3",
   "language": "python",
   "name": "python3"
  },
  "language_info": {
   "codemirror_mode": {
    "name": "ipython",
    "version": 3
   },
   "file_extension": ".py",
   "mimetype": "text/x-python",
   "name": "python",
   "nbconvert_exporter": "python",
   "pygments_lexer": "ipython3",
   "version": "3.6.9"
  }
 },
 "nbformat": 4,
 "nbformat_minor": 2
}
