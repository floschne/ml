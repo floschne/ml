{
 "cells": [
  {
   "cell_type": "code",
   "execution_count": 1,
   "metadata": {},
   "outputs": [],
   "source": [
    "import numpy as np\n",
    "from matplotlib import pyplot as plt\n",
    "%matplotlib inline \n",
    "\n",
    "def generate_random_data(n=1000):\n",
    "    epsilon = np.random.uniform(-.3, .3, n)\n",
    "    x = np.random.uniform(0.0, 1.0, n)\n",
    "    y = np.sin(2*np.pi*x) + epsilon\n",
    "    return (x, y)\n",
    "\n",
    "def init_theta(n_dim=2):\n",
    "    return np.random.uniform(-.5, .5, n_dim+1)\n",
    "\n",
    "def create_feature_vectors(x, n_dim=3):\n",
    "    X = x ** 0\n",
    "    for m in range(1, n_dim+1):\n",
    "        X = np.column_stack((X, x ** m))\n",
    "    return X"
   ]
  },
  {
   "cell_type": "code",
   "execution_count": 2,
   "metadata": {},
   "outputs": [],
   "source": [
    "def hypothesis_(x, theta):\n",
    "    s = 0.\n",
    "    for i in range(len(x)):\n",
    "        s += x[i] * theta[i]\n",
    "    return s"
   ]
  },
  {
   "cell_type": "code",
   "execution_count": 3,
   "metadata": {},
   "outputs": [],
   "source": [
    "def hypothesis(X, theta):\n",
    "    return np.dot(theta, X.T)"
   ]
  },
  {
   "cell_type": "code",
   "execution_count": 4,
   "metadata": {},
   "outputs": [],
   "source": [
    "def cost_(x, y, theta):\n",
    "    return .5 * (hypothesis_(x, theta) - y) ** 2"
   ]
  },
  {
   "cell_type": "code",
   "execution_count": 5,
   "metadata": {},
   "outputs": [],
   "source": [
    "def cost(X, y, theta):\n",
    "    error = hypothesis(X, theta) - y\n",
    "    squared_error = np.dot(error.T, error)\n",
    "    return .5 * squared_error"
   ]
  },
  {
   "cell_type": "code",
   "execution_count": 6,
   "metadata": {},
   "outputs": [],
   "source": [
    "def nabla_theta_cost(X, y, theta):\n",
    "    A = np.dot(X.T, X)\n",
    "    B = np.dot(A, theta)\n",
    "    C = np.dot(X.T, y)\n",
    "    return B - C"
   ]
  },
  {
   "cell_type": "code",
   "execution_count": 7,
   "metadata": {},
   "outputs": [],
   "source": [
    "def sgd(x, y, poly_degree=5, n_iter=500000, learning_rate = 0.001, min_error_delta = 0.0000125):\n",
    "    # create feature vecotrs for the polynominal of degree poly_degree\n",
    "    X = create_feature_vectors(x, poly_degree)\n",
    "    # init the respective theta with random uniform numbers\n",
    "    theta = init_theta(poly_degree)\n",
    "    \n",
    "    errors = []\n",
    "    early_stopped = False\n",
    "    for i in range(0, n_iter):\n",
    "        old_error = cost(X, y, theta)\n",
    "        ntc = nabla_theta_cost(X, y, theta)\n",
    "        theta -= learning_rate * ntc\n",
    "        new_error = cost(X, y, theta)\n",
    "        errors.append(new_error)\n",
    "        if np.abs(old_error - new_error) < min_error_delta:\n",
    "            print(\"Stopping afer %d iterations\" % (i))\n",
    "            early_stopped = True\n",
    "            break\n",
    "    \n",
    "    if not early_stopped:\n",
    "        print(\"Stopping after %d iterations. Error has not converged yet!\" % (n_iter))\n",
    "    \n",
    "    print(\"Min. error %f\" % (np.min(errors)))\n",
    "    print(\"Max. error %f\" % (np.max(errors)))\n",
    "    print(\"Min. error delta %f\" % (min_error_delta))\n",
    "    return theta, errors\n"
   ]
  },
  {
   "cell_type": "code",
   "execution_count": 8,
   "metadata": {},
   "outputs": [],
   "source": [
    "def plot_results(x, y, theta, errors):\n",
    "    import os\n",
    "    fig, ax = plt.subplots()\n",
    "    poly_str = polynominal_str(theta)\n",
    "    title = 'Randomly Generated Data with fitted %i-degree-polynominal \\n ' % (len(theta)-1) + poly_str\n",
    "    # fig.suptitle(title)\n",
    "    print(title)\n",
    "\n",
    "    # plot original data\n",
    "    ax.scatter(x, y, marker='.',linewidths=1, label='randomly generated data point')\n",
    "\n",
    "    # plot original sin wave\n",
    "    xx = np.linspace(0.0, 1.0, 5000)\n",
    "    yy = np.sin(2*np.pi*xx)\n",
    "    ax.plot(xx, yy, 'k', linewidth=2, label='original sine wave')\n",
    "    \n",
    "    # plot hypothesis\n",
    "    x_ = np.linspace(0.0, 1.0, 5000)\n",
    "    X_ = create_feature_vectors(x_, len(theta)-1)\n",
    "    ax.plot(x_, hypothesis(X_, theta), 'r', linewidth=2, label='fitted  %i-degree-polynominal' % (len(theta)-1))\n",
    "    ax.legend()\n",
    "    ax.set(xlabel='x', ylabel='y')\n",
    "    plt.savefig(os.getcwd() + '/'+ title.lower().replace(' ', '_').replace('\\n', '_') + '.png')\n",
    "\n",
    "    # plot error\n",
    "    fig, ax = plt.subplots()\n",
    "    title = 'Error over iterations of SGD'\n",
    "    iterations = list(range(len(errors)))\n",
    "    ax.plot(iterations, errors)\n",
    "    ax.set(xlabel='n_iteration', ylabel='Error')\n",
    "    #ax.set_title(title)\n",
    "    plt.savefig(os.getcwd() + '/'+ title.lower().replace(' ', '_') + '.png')\n"
   ]
  },
  {
   "cell_type": "code",
   "execution_count": 9,
   "metadata": {},
   "outputs": [],
   "source": [
    "def polynominal_str(theta):\n",
    "    poly = 'f(x) = '\n",
    "    for i in range(len(theta)):\n",
    "        poly += '%f * x^%i + ' % (theta[i], i)\n",
    "    poly = poly[:-2]\n",
    "    \n",
    "    return poly"
   ]
  },
  {
   "cell_type": "code",
   "execution_count": 14,
   "metadata": {},
   "outputs": [
    {
     "name": "stdout",
     "output_type": "stream",
     "text": [
      "Stopping afer 35429 iterations\n",
      "Min. error 1.772289\n",
      "Max. error 26.186161\n",
      "Min. error delta 0.000001\n"
     ]
    }
   ],
   "source": [
    "x, y = generate_random_data(100)\n",
    "theta, errors = sgd(x, y, poly_degree = 3, learning_rate=0.01, min_error_delta=0.000001)"
   ]
  },
  {
   "cell_type": "code",
   "execution_count": 11,
   "metadata": {},
   "outputs": [
    {
     "name": "stdout",
     "output_type": "stream",
     "text": [
      "Randomly Generated Data with fitted 3-degree-polynominal \n",
      " f(x) = -0.308803 * x^0 + 12.881373 * x^1 + -36.596097 * x^2 + 24.218405 * x^3 \n"
     ]
    },
    {
     "data": {
      "image/png": "[encoded data removed]",
      "text/plain": [
       "<Figure size 432x288 with 1 Axes>"
      ]
     },
     "metadata": {},
     "output_type": "display_data"
    },
    {
     "data": {
      "image/png": "[encoded data removed]",
      "text/plain": [
       "<Figure size 432x288 with 1 Axes>"
      ]
     },
     "metadata": {},
     "output_type": "display_data"
    }
   ],
   "source": [
    "plot_results(x,y,theta,errors)"
   ]
  },
  {
   "cell_type": "code",
   "execution_count": null,
   "metadata": {},
   "outputs": [],
   "source": []
  },
  {
   "cell_type": "code",
   "execution_count": null,
   "metadata": {},
   "outputs": [],
   "source": []
  }
 ],
 "metadata": {
  "kernelspec": {
   "display_name": "Python 3",
   "language": "python",
   "name": "python3"
  },
  "language_info": {
   "codemirror_mode": {
    "name": "ipython",
    "version": 3
   },
   "file_extension": ".py",
   "mimetype": "text/x-python",
   "name": "python",
   "nbconvert_exporter": "python",
   "pygments_lexer": "ipython3",
   "version": "3.6.5"
  }
 },
 "nbformat": 4,
 "nbformat_minor": 2
}
