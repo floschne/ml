{
 "cells": [
  {
   "cell_type": "code",
   "execution_count": 42,
   "metadata": {},
   "outputs": [],
   "source": [
    "import numpy as np\n",
    "from matplotlib import pyplot as plt\n",
    "%matplotlib inline"
   ]
  },
  {
   "cell_type": "code",
   "execution_count": 43,
   "metadata": {},
   "outputs": [],
   "source": [
    "def load_data():\n",
    "    import os\n",
    "    import csv\n",
    "    X = []\n",
    "    Y = []\n",
    "    with open(os.getcwd() + '/data.txt', newline = '') as data:                                                                                          \n",
    "        data_reader = csv.reader(data, delimiter=' ')\n",
    "        for line in data_reader:\n",
    "            X += [[float(line[0]), float(line[1])]]\n",
    "            Y += [float(line[2])]\n",
    "    \n",
    "    print('Successfully read %i data points' % (len(X)))\n",
    "    return np.array(X), np.array(Y)\n",
    "\n",
    "def plot_data(x):\n",
    "    fig, ax = plt.subplots()\n",
    "    ax.set(xlabel='x', ylabel='y')\n",
    "    ax.scatter(x[:50,0], x[:50,1], c='g', marker='.', linewidths=1, label='positives')\n",
    "    ax.scatter(x[50:,0], x[50:,1], c='r', marker='.', linewidths=1, label='negatives')\n",
    "    ax.legend()\n",
    "    \n",
    "    return fig, ax\n"
   ]
  },
  {
   "cell_type": "code",
   "execution_count": 44,
   "metadata": {},
   "outputs": [],
   "source": [
    "def init_theta():\n",
    "    return np.random.uniform(-.01, .01, 3)\n",
    "\n",
    "def create_feature_vectors(x):\n",
    "    # for theta_0\n",
    "    X = np.ones((100, 1))\n",
    "    for n in [0, 1]:\n",
    "        X = np.column_stack((X, x[:, n]))\n",
    "    return X\n",
    "\n",
    "def sigmoid(X):\n",
    "    return 1 / (1+np.exp(-X))\n",
    "\n",
    "def hypothesis(X, theta):\n",
    "    return sigmoid(np.dot(theta, X.T))"
   ]
  },
  {
   "cell_type": "code",
   "execution_count": 82,
   "metadata": {},
   "outputs": [],
   "source": [
    "def plot_classification_line(theta, c, label=None, ax=None):\n",
    "    if(ax == None):\n",
    "        fig, ax = plt.subplots()\n",
    "        ax.set(xlabel='x', ylabel='y')\n",
    "    x = np.linspace(-3., 3., 1000)\n",
    "    y = (theta[0] + theta[1] * x) * (-1 / theta[2])\n",
    "    ax.plot(x, y, c=c, label=label)\n",
    "    ax.legend()\n",
    "    \n",
    "    print('y = -1/%f(%f + %f * x_1)' % (theta[2], theta[0], theta[1]))\n",
    "    \n",
    "    return ax"
   ]
  },
  {
   "cell_type": "code",
   "execution_count": 83,
   "metadata": {},
   "outputs": [],
   "source": [
    "def log_likelihood(X, y, theta):\n",
    "    pos_ll = np.dot(y, np.log(hypothesis(X, theta)))\n",
    "    neg_ll = np.dot((1 - y), np.log(1-hypothesis(X, theta)))\n",
    "    return pos_ll - neg_ll"
   ]
  },
  {
   "cell_type": "code",
   "execution_count": 84,
   "metadata": {},
   "outputs": [],
   "source": [
    "def nabla_theta_log_likelihood(X, y, theta):\n",
    "    return np.dot((y - hypothesis(X, theta)), X)"
   ]
  },
  {
   "cell_type": "code",
   "execution_count": 85,
   "metadata": {},
   "outputs": [],
   "source": [
    "def sgd(X, y, theta, n_iter=100, learning_rate = 0.001, min_error_delta = 0.0000125):    \n",
    "    errors = []\n",
    "    early_stopped = False\n",
    "    for i in range(0, n_iter):\n",
    "        old_error = log_likelihood(X, y, theta)\n",
    "        ntc = nabla_theta_log_likelihood(X, y, theta)\n",
    "        theta += learning_rate * ntc\n",
    "        new_error = log_likelihood(X, y, theta)\n",
    "        errors.append(new_error)\n",
    "        if np.abs(old_error - new_error) < min_error_delta:\n",
    "            print(\"Stopping afer %d iterations\" % (i))\n",
    "            early_stopped = True\n",
    "            break\n",
    "        \n",
    "    if not early_stopped:\n",
    "        print(\"Stopping after %d iterations. Error has not converged yet!\" % (n_iter))\n",
    "    \n",
    "    print(\"Min. error %f\" % (np.min(errors)))\n",
    "    print(\"Max. error %f\" % (np.max(errors)))\n",
    "    print(\"Min. error delta %f\" % (min_error_delta))\n",
    "    return theta, errors"
   ]
  },
  {
   "cell_type": "code",
   "execution_count": null,
   "metadata": {},
   "outputs": [],
   "source": []
  },
  {
   "cell_type": "code",
   "execution_count": 86,
   "metadata": {},
   "outputs": [
    {
     "name": "stdout",
     "output_type": "stream",
     "text": [
      "Successfully read 100 data points\n",
      "y = -1/0.001103(0.000252 + 0.002929 * x_1)\n",
      "Stopping after 100 iterations. Error has not converged yet!\n",
      "Min. error -246.488299\n",
      "Max. error -0.188324\n",
      "Min. error delta 0.000013\n",
      "y = -1/3.933982(9.745688 + -1.400025 * x_1)\n"
     ]
    },
    {
     "data": {
      "image/png": "[encoded data removed]",
      "text/plain": [
       "<Figure size 432x288 with 1 Axes>"
      ]
     },
     "metadata": {},
     "output_type": "display_data"
    }
   ],
   "source": [
    "x, y = load_data()\n",
    "\n",
    "X = create_feature_vectors(x)\n",
    "theta = init_theta()\n",
    "\n",
    "fig, ax = plot_data(x)    \n",
    "\n",
    "plot_classification_line(theta, 'k', 'random theta', ax)\n",
    "\n",
    "theta_fitted, errors = sgd(X, y, theta, learning_rate=0.1)\n",
    "\n",
    "plot_classification_line(theta_fitted, 'y', 'fitted theta', ax)\n",
    "\n",
    "import os\n",
    "fig.suptitle(\"Binary classification using logistic regression\")\n",
    "plt.savefig(os.getcwd() + '/'+ 'classification_plots.png')"
   ]
  },
  {
   "cell_type": "code",
   "execution_count": 53,
   "metadata": {},
   "outputs": [
    {
     "data": {
      "text/plain": [
       "<Figure size 432x288 with 0 Axes>"
      ]
     },
     "metadata": {},
     "output_type": "display_data"
    }
   ],
   "source": [
    "\n"
   ]
  },
  {
   "cell_type": "code",
   "execution_count": null,
   "metadata": {},
   "outputs": [],
   "source": []
  }
 ],
 "metadata": {
  "kernelspec": {
   "display_name": "Python 3",
   "language": "python",
   "name": "python3"
  },
  "language_info": {
   "codemirror_mode": {
    "name": "ipython",
    "version": 3
   },
   "file_extension": ".py",
   "mimetype": "text/x-python",
   "name": "python",
   "nbconvert_exporter": "python",
   "pygments_lexer": "ipython3",
   "version": "3.6.5"
  }
 },
 "nbformat": 4,
 "nbformat_minor": 2
}
