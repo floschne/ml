{
 "cells": [
  {
   "cell_type": "code",
   "execution_count": 1,
   "metadata": {},
   "outputs": [],
   "source": [
    "import numpy as np"
   ]
  },
  {
   "cell_type": "code",
   "execution_count": 2,
   "metadata": {},
   "outputs": [],
   "source": [
    "actions = ['north', 'east', 'south', 'west']"
   ]
  },
  {
   "cell_type": "code",
   "execution_count": 3,
   "metadata": {},
   "outputs": [],
   "source": [
    "def pi(s, a):\n",
    "    return 0.25\n",
    "\n",
    "def r_a_s_s(s, s_next, a):\n",
    "    # in case of grid world we don't need parameter s and a, since reward is always -1 except when s_next is terminal state\n",
    "    if (s in (0, 15) and s_next in (0, 15)):\n",
    "        return 0\n",
    "    else:\n",
    "        return -1\n",
    "\n",
    "def p_a_s_s(s, s_next, a):\n",
    "    # the probability of going from state s to s_next\n",
    "    return 0.25\n",
    "\n",
    "def get_possible_next_states(state):\n",
    "    if (state == 0):\n",
    "        return (0, 0, 0, 0)\n",
    "    if (state == 1):\n",
    "        return (1, 2, 5, 0)\n",
    "    if (state == 2):\n",
    "        return (2, 3, 6, 1)\n",
    "    if (state == 3):\n",
    "        return (3, 3, 7, 2)\n",
    "    if (state == 4):\n",
    "        return (0, 5, 8, 4)\n",
    "    if (state == 5):\n",
    "        return (1, 6, 9, 4)\n",
    "    if (state == 6):\n",
    "        return (2, 5, 7, 10)\n",
    "    if (state == 7):\n",
    "        return (3, 7, 11, 6)\n",
    "    if (state == 8):\n",
    "        return (4, 9, 12, 8)\n",
    "    if (state == 9):\n",
    "        return (5, 8, 10, 13)\n",
    "    if (state == 10):\n",
    "        return (6, 9, 11, 14)\n",
    "    if (state == 11):\n",
    "        return (7, 11, 15, 10)\n",
    "    if (state == 12):\n",
    "        return (8, 13, 12, 12)\n",
    "    if (state == 13):\n",
    "        return (9, 12, 14, 13)\n",
    "    if (state == 14):\n",
    "        return (10, 13, 14, 15) \n",
    "    if (state == 15):\n",
    "        return (15, 15, 15, 15)\n",
    "    \n",
    "def calc_bellman_equation(current_state, V, gamma):\n",
    "    V_s = 0\n",
    "        \n",
    "    for action in actions:\n",
    "        reward = 0\n",
    "        possible_next_states = get_possible_next_states(current_state)\n",
    "        \n",
    "        for possible_next_state in possible_next_states:            \n",
    "            reward += p_a_s_s(current_state, possible_next_state, action) * (r_a_s_s(current_state, possible_next_state, action) + gamma * V[possible_next_state])\n",
    "    \n",
    "        V_s += pi(current_state, action) * reward\n",
    "            \n",
    "    return V_s\n",
    "    \n",
    "\n",
    "def iterative_policy_evaluation():\n",
    "    V = np.zeros(16)\n",
    "    \n",
    "    theta = 0.001\n",
    "    run = 1\n",
    "    \n",
    "    while (run):\n",
    "        delta = 0\n",
    "        V_temp = V.copy()\n",
    "        for i, v_state in enumerate(V):\n",
    "            gamma = 1\n",
    "            \n",
    "            v = v_state\n",
    "            V[i] = calc_bellman_equation(i, V_temp, gamma)\n",
    "            delta = max(delta, abs(v - V[i]))\n",
    "           \n",
    "        # stop loop if delta is small enough\n",
    "        if (delta <= theta):\n",
    "            run = 0\n",
    "            \n",
    "        # print(i, V.reshape(4,4))\n",
    "            \n",
    "    return V"
   ]
  },
  {
   "cell_type": "code",
   "execution_count": 6,
   "metadata": {},
   "outputs": [
    {
     "name": "stdout",
     "output_type": "stream",
     "text": [
      "[[  0.         -13.98945772 -19.98437823 -21.98251832]\n",
      " [-13.98945772 -17.98623815 -19.98448273 -19.98437823]\n",
      " [-19.98437823 -19.98448273 -17.98623815 -13.98945772]\n",
      " [-21.98251832 -19.98437823 -13.98945772   0.        ]]\n"
     ]
    }
   ],
   "source": [
    "# Run iterative policy evaluation with function pi\n",
    "res = iterative_policy_evaluation()\n",
    "print(res.reshape(4,4))"
   ]
  },
  {
   "cell_type": "code",
   "execution_count": 5,
   "metadata": {},
   "outputs": [
    {
     "name": "stdout",
     "output_type": "stream",
     "text": [
      "(16,)\n"
     ]
    }
   ],
   "source": [
    "print(res.shape)"
   ]
  },
  {
   "cell_type": "code",
   "execution_count": null,
   "metadata": {},
   "outputs": [],
   "source": []
  }
 ],
 "metadata": {
  "kernelspec": {
   "display_name": "Python 3",
   "language": "python",
   "name": "python3"
  },
  "language_info": {
   "codemirror_mode": {
    "name": "ipython",
    "version": 3
   },
   "file_extension": ".py",
   "mimetype": "text/x-python",
   "name": "python",
   "nbconvert_exporter": "python",
   "pygments_lexer": "ipython3",
   "version": "3.6.5"
  }
 },
 "nbformat": 4,
 "nbformat_minor": 2
}
